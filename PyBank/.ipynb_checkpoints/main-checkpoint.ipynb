{
 "cells": [
  {
   "cell_type": "markdown",
   "id": "b721161d-b633-4415-a8e0-fe6c10adcaad",
   "metadata": {},
   "source": [
    "Initialize imports, variables, and constants"
   ]
  },
  {
   "cell_type": "code",
   "execution_count": 44,
   "id": "4ccd4734-6e50-4868-af4a-cccb3e1a8534",
   "metadata": {},
   "outputs": [],
   "source": [
    "import csv\n",
    "\n",
    "DATE_COLUMN = 0\n",
    "PNL_COLUMN = 1\n",
    "\n",
    "total_months = 0\n",
    "total = 0\n",
    "average_change = 0\n",
    "greatest_increase = ['', '0']\n",
    "greatest_decrease = ['', '0']"
   ]
  },
  {
   "cell_type": "markdown",
   "id": "27f4ea03-1958-4634-9848-1c5093ab2921",
   "metadata": {},
   "source": [
    "Read data from csv"
   ]
  },
  {
   "cell_type": "code",
   "execution_count": 45,
   "id": "8bdc27d8-fd0c-47c4-8948-7e0a77a86bd8",
   "metadata": {},
   "outputs": [],
   "source": [
    "with open ('./Resources/budget_data.csv') as csv_file:\n",
    "    budget = csv.reader(csv_file, delimiter=\",\")\n",
    "    next(budget, None)\n",
    "    \n",
    "    # iterate through csv file\n",
    "    for row in budget:\n",
    "        month_pnl = int(row[PNL_COLUMN])\n",
    "        # increment month count\n",
    "        total_months += 1\n",
    "        \n",
    "        # add current month to total\n",
    "        total += month_pnl\n",
    "        \n",
    "        # find greatest increase\n",
    "        if int(greatest_increase[PNL_COLUMN]) == 0:\n",
    "            greatest_increase = row\n",
    "        elif month_pnl > int(greatest_increase[PNL_COLUMN]):\n",
    "            greatest_increase = row\n",
    "        \n",
    "        # find greatest decrease\n",
    "        if int(greatest_decrease[PNL_COLUMN]) == 0:\n",
    "            greatest_decrease = row\n",
    "        elif month_pnl < int(greatest_decrease[PNL_COLUMN]):\n",
    "            greatest_decrease = row\n",
    "        \n",
    "        \n",
    "average_change = round(total / total_months, 2)"
   ]
  },
  {
   "cell_type": "markdown",
   "id": "426a6f6b-af2f-4607-9af7-fa7a2626b995",
   "metadata": {},
   "source": [
    "Print summary"
   ]
  },
  {
   "cell_type": "code",
   "execution_count": 50,
   "id": "f0a8c775-7947-4d55-b83e-e8f749f99351",
   "metadata": {},
   "outputs": [],
   "source": [
    "# helper function to generate a summary string\n",
    "def generate_summary():\n",
    "    return \"Financial Analysis \\n----------------------------\\n\" + f\"Total Months: {total_months}\\nTotal: ${total}\\nAverage  Change: ${average_change}\\nGreatest Increase in Profits: {greatest_increase[DATE_COLUMN]} (${greatest_increase[PNL_COLUMN]})\\nGreatest Decrease in Profits: {greatest_decrease[DATE_COLUMN]} (${greatest_decrease[PNL_COLUMN]})\"\n"
   ]
  },
  {
   "cell_type": "code",
   "execution_count": 51,
   "id": "3e9a555d-cd2b-4e21-8e3a-28966674d16a",
   "metadata": {},
   "outputs": [
    {
     "name": "stdout",
     "output_type": "stream",
     "text": [
      "Financial Analysis \n",
      "----------------------------\n",
      "Total Months: 86\n",
      "Total: $38382578\n",
      "Average  Change: $446309.05\n",
      "Greatest Increase in Profits: Feb-2012 ($1170593)\n",
      "Greatest Decrease in Profits: Sep-2013 ($-1196225)\n"
     ]
    }
   ],
   "source": [
    "print(generate_summary())"
   ]
  },
  {
   "cell_type": "markdown",
   "id": "39b76d62-8c74-408f-9ba1-8a381995aa3d",
   "metadata": {},
   "source": [
    "Write to a file"
   ]
  },
  {
   "cell_type": "code",
   "execution_count": 54,
   "id": "e1723782-88cd-4f6b-ba62-7e8a230709d4",
   "metadata": {},
   "outputs": [],
   "source": [
    "with open('summary.txt', 'w') as file:\n",
    "    file.write(generate_summary())"
   ]
  },
  {
   "cell_type": "code",
   "execution_count": null,
   "id": "2d3aa661-f65d-45af-8cf7-201c9c829874",
   "metadata": {},
   "outputs": [],
   "source": []
  }
 ],
 "metadata": {
  "kernelspec": {
   "display_name": "Python 3 (ipykernel)",
   "language": "python",
   "name": "python3"
  },
  "language_info": {
   "codemirror_mode": {
    "name": "ipython",
    "version": 3
   },
   "file_extension": ".py",
   "mimetype": "text/x-python",
   "name": "python",
   "nbconvert_exporter": "python",
   "pygments_lexer": "ipython3",
   "version": "3.9.7"
  }
 },
 "nbformat": 4,
 "nbformat_minor": 5
}
